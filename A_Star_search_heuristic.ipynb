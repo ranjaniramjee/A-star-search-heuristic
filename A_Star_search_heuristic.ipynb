{
 "cells": [
  {
   "cell_type": "markdown",
   "metadata": {},
   "source": [
    "<center><h1> Artifical and Computational Intelligence Assignment 1 </h1></center>\n",
    " \n",
    "\n"
   ]
  },
  {
   "cell_type": "markdown",
   "metadata": {},
   "source": [
    "### Objective : Implement A* search to find the optimal path to the destination city"
   ]
  },
  {
   "cell_type": "markdown",
   "metadata": {},
   "source": [
    "##### Group and Individual information below: \n",
    "\n",
    "* Group ID/Number: ACI_GROUP077\n",
    "\n",
    "* Group Members BITS ID: 2018AB04614 , 2018AB04660"
   ]
  },
  {
   "cell_type": "markdown",
   "metadata": {},
   "source": [
    "#### Describing the Task environment in the given problem :\n",
    "\n",
    "PEAS: to specify a task environment\n",
    "\n",
    "* Performance measure : most optimal path to home and its related path cost-->safe, fast, legal, comfortable, maximize profits\n",
    "\n",
    "* Environment :  Road map , other traffic, pedestrians\n",
    "\n",
    "* Actuators : steering, accelerator, brake, signal, horn\n",
    "\n",
    "* Sensors : speedometer, GPS"
   ]
  },
  {
   "cell_type": "markdown",
   "metadata": {},
   "source": [
    "#### Describing the agent environment in the given problem :\n",
    "\n",
    "As per problem statement, environment is fully observable,static,discrete,deterministic, single-agent,known and sequential.\n",
    "\n",
    "* Fully observable : \n",
    "        As per problem statement , the agent can access the current state of an environment at each point of time.\n",
    "        Agent knew its states at all times from the given map.\n",
    "        \n",
    "* Static :\n",
    "        Agents need not keep looking at the world at each action as environment cannot change itself,\n",
    "        while an agent is deliberating. No attention to changes in environment\n",
    "        \n",
    "* Discrete :\n",
    "        Agent environment has a finite number of percepts and actions that can be performed within it. \n",
    "        We can enumerate all possibilities.\n",
    "        \n",
    "* Deterministic :\n",
    "        An agent's current state and selected action can completely determine the next state of the environment. \n",
    "        Agent do not need to worry about uncertainty. we can predict the future perfectly given our actions\n",
    "        \n",
    "* Single-agent :\n",
    "        No other agents interacting with the cost function and operating by itself.\n",
    "        \n",
    "* Sequential :\n",
    "        Agent decisions depend on past actions/decisions.\n",
    "        \n",
    "        \n",
    "* Initial State=\n",
    "    In(Panaji)\n",
    "* Possible Action(s)=\n",
    "    ACTIONS(s)-> {Go(Bellary),Go (Tirupati),Go (Chennai)}\n",
    "* Transition Model =\n",
    "    Result(In (Panaji),Go (Bellary),Go (Tirupati),Go(Chennai))=IN(Chennai))\n",
    "* Goal Test =\n",
    "    IsGoal(In(Chennai)) = Yes\n",
    "* Path cost = \n",
    "    cost(In(Panaji),Go (Bellary),Go (Tirupati),Go (Chennai)) = 941\n",
    "        "
   ]
  },
  {
   "cell_type": "markdown",
   "metadata": {},
   "source": [
    "### 1) Define the haversine formula and what it does\n",
    "\n",
    "This uses the ‘haversine’ formula to calculate the great-circle distance between two points – that is, the shortest distance over the earth’s surface – giving an ‘as-the-crow-flies’ distance between the points (ignoring any hills they fly over, of course!).\n",
    "\n",
    "Haversine\n",
    "formula: a = sin²(Δφ/2) + cos φ1 ⋅ cos φ2 ⋅ sin²(Δλ/2) \n",
    "c = 2 ⋅ atan2( √a, √(1−a) ) \n",
    "d = R ⋅ c \n",
    "where φ is latitude, λ is longitude, R is earth’s radius (mean radius = 6,371km);\n",
    " note that angles need to be in radians to pass to trig functions! \n",
    " \n",
    "The haversine formula ‘remains particularly well-conditioned for numerical computa­tion even at small distances’ – unlike calculations based on the spherical law of cosines. The ‘(re)versed sine’ is 1−cosθ, and the ‘half-versed-sine’ is (1−cosθ)/2 or sin²(θ/2) as used above\n",
    "\n",
    "    "
   ]
  },
  {
   "cell_type": "markdown",
   "metadata": {},
   "source": [
    "### 2) Define a function which calculates the heuristic distance from each city to the destination city."
   ]
  },
  {
   "cell_type": "code",
   "execution_count": 1,
   "metadata": {},
   "outputs": [],
   "source": [
    "import math\n",
    "\n",
    "class Haversine:\n",
    "    '''\n",
    "    \n",
    "    use the haversine class to calculate the distance between two lon/lat coordnate pairs.\n",
    "    output distance available in kilometers, meters, miles, and feet.\n",
    "    example usage: Haversine([lon1,lat1],[lon2,lat2]).feet\n",
    "    \n",
    "    '''\n",
    "    def __init__(self,coord1,coord2):\n",
    "        lon1,lat1=coord1\n",
    "        lon2,lat2=coord2\n",
    "        \n",
    "        R=6371000                               # radius of Earth in meters\n",
    "        phi_1=math.radians(lat1)\n",
    "        phi_2=math.radians(lat2)\n",
    "\n",
    "        delta_phi=math.radians(lat2-lat1)\n",
    "        delta_lambda=math.radians(lon2-lon1)\n",
    "\n",
    "        a=math.sin(delta_phi/2.0)**2+\\\n",
    "           math.cos(phi_1)*math.cos(phi_2)*\\\n",
    "           math.sin(delta_lambda/2.0)**2\n",
    "        c=2*math.atan2(math.sqrt(a),math.sqrt(1-a))\n",
    "        \n",
    "        self.meters=R*c                         # output distance in meters\n",
    "        self.km=self.meters/1000.0              # output distance in kilometers\n",
    "        self.miles=self.meters*0.000621371      # output distance in miles\n",
    "        self.feet=self.miles*5280               # output distance in feet\n",
    "\n",
    "if __name__ == \"__Haversine__\":\n",
    "    main()"
   ]
  },
  {
   "cell_type": "markdown",
   "metadata": {},
   "source": [
    "* Definfing the latitude and longitude data for the cities"
   ]
  },
  {
   "cell_type": "code",
   "execution_count": 2,
   "metadata": {},
   "outputs": [],
   "source": [
    "##panaji\n",
    "lat1 = 15.4909\n",
    "lon1 = 73.8278\n",
    "#Raichur\n",
    "lat2 = 16.2076\n",
    "lon2 = 77.3463\n",
    "#Mangalore\n",
    "lat3 = 12.9141\n",
    "lon3 = 74.8560\n",
    "#Bellari\n",
    "lat4 = 15.1394\n",
    "lon4 = 76.9214\n",
    "#Tirupati\n",
    "lat5 = 13.6288\n",
    "lon5 = 79.4192\n",
    "#Kurnool\n",
    "lat6 = 15.8281\n",
    "lon6 = 78.0373\n",
    "#Kozhikode\n",
    "lat7 = 11.2588\n",
    "lon7 = 75.7804\n",
    "#Bangalore\n",
    "lat8 = 12.9716\n",
    "lon8 = 77.5946\n",
    "#Nellore\n",
    "lat9 = 14.4426\n",
    "lon9 = 79.9865\n",
    "#Chennai\n",
    "lat10 = 13.0827\n",
    "lon10 = 80.2707"
   ]
  },
  {
   "cell_type": "code",
   "execution_count": 3,
   "metadata": {},
   "outputs": [
    {
     "name": "stdout",
     "output_type": "stream",
     "text": [
      "Distance from Panji to Chennai: 744.0351557019168\n",
      "Distance from Raichur to Chennai: 468.70907881522203\n",
      "Distance from Mangalore to Chennai: 586.9476757845573\n",
      "Distance from Bellari to Chennai: 427.4793247479109\n",
      "Distance from Tirupati to Chennai: 110.33441493944754\n",
      "Distance from Kurnool to Chennai: 388.59982884786746\n",
      "Distance from Kozhikode to Chennai: 528.5085200528741\n",
      "Distance from Bangalore to Chennai: 290.1720249530612\n",
      "Distance from Nellore to Chennai: 154.29762113682816\n",
      "Distance from Chennai to Chennai: 0.0\n"
     ]
    }
   ],
   "source": [
    "#Distance measured in Kms (Heuristic function)\n",
    "print(\"Distance from Panji to Chennai:\", (Haversine((lon1,lat1),(lon10,lat10)).km ))\n",
    "print(\"Distance from Raichur to Chennai:\", (Haversine((lon2,lat2),(lon10,lat10)).km ))\n",
    "print(\"Distance from Mangalore to Chennai:\", (Haversine((lon3,lat3),(lon10,lat10)).km ))\n",
    "print(\"Distance from Bellari to Chennai:\", (Haversine((lon4,lat4),(lon10,lat10)).km ))\n",
    "print(\"Distance from Tirupati to Chennai:\", (Haversine((lon5,lat5),(lon10,lat10)).km ))\n",
    "print(\"Distance from Kurnool to Chennai:\", (Haversine((lon6,lat6),(lon10,lat10)).km ))\n",
    "print(\"Distance from Kozhikode to Chennai:\", (Haversine((lon7,lat7),(lon10,lat10)).km ))\n",
    "print(\"Distance from Bangalore to Chennai:\", (Haversine((lon8,lat8),(lon10,lat10)).km ))\n",
    "print(\"Distance from Nellore to Chennai:\", (Haversine((lon9,lat9),(lon10,lat10)).km ))\n",
    "print(\"Distance from Chennai to Chennai:\", (Haversine((lon10,lat10),(lon10,lat10)).km )) #h(n)=0 at goal state."
   ]
  },
  {
   "cell_type": "code",
   "execution_count": 4,
   "metadata": {},
   "outputs": [
    {
     "data": {
      "text/plain": [
       "744.0362067639784"
      ]
     },
     "execution_count": 4,
     "metadata": {},
     "output_type": "execute_result"
    }
   ],
   "source": [
    "### Verifying haversine formula accuracy using great circle computation here,\n",
    "from geopy.distance import great_circle\n",
    "Panji = (15.4909, 73.8278)\n",
    "Chennai = (13.0827, 80.2707)\n",
    "great_circle(Panji, Chennai).km"
   ]
  },
  {
   "cell_type": "markdown",
   "metadata": {},
   "source": [
    "### 3) Implementation of A* Algorithm to find the optimal path to the destination city"
   ]
  },
  {
   "cell_type": "markdown",
   "metadata": {},
   "source": [
    "Define the path cost involved in reaching one city to another"
   ]
  },
  {
   "cell_type": "code",
   "execution_count": 5,
   "metadata": {},
   "outputs": [],
   "source": [
    "\"\"\"All possible path for cities\"\"\"\n",
    "GRAPH = { \n",
    "\"Panji\":{\"Mangalore\": 365, \"Bellari\": 409, \"Raichur\": 457 },\n",
    "\"Mangalore\":{\"Panji\": 365, \"Kozhikode\": 233, \"Bangalore\": 352},\n",
    "\"Kozhikode\":{\"Mangalore\": 233, \"Bangalore\": 356},\n",
    "\"Bangalore\":{\"Mangalore\": 352, \"Kozhikode\": 356, \"Bellari\": 311, \"Chennai\": 346},\n",
    "\"Bellari\":{\"Panji\": 409, \"Tirupati\": 379, \"Bangalore\": 311},\n",
    "\"Raichur\":{\"Panji\": 457, \"Tirupati\": 453, \"Kurnool\": 100},\n",
    "\"Kurnool\":{\"Raichur\": 100, \"Nellore\": 325, \"Tirupati\": 340},\n",
    "\"Nellore\":{\"Kurnool\": 325, \"Chennai\": 175, \"Tirupati\": 136},\n",
    "\"Chennai\":{\"Nellore\": 175, \"Bangalore\": 346, \"Tirupati\": 153},\n",
    "\"Tirupati\":{\"Raichur\": 453, \"Bellari\": 379, \"Chennai\": 153, \"Kurnool\": 340, \"Nellore\": 136}\n",
    "}\n"
   ]
  },
  {
   "cell_type": "markdown",
   "metadata": {},
   "source": [
    "##### SLD - The Straight line distance from each node to goal node. This is the heuristic function defined. \n",
    "At goal node, h(n) = 0"
   ]
  },
  {
   "cell_type": "code",
   "execution_count": 6,
   "metadata": {
    "scrolled": true
   },
   "outputs": [],
   "source": [
    "#Define a star algorithm with heuristics to find optimal path and cost\n",
    "def a_star( source, destination):\n",
    "    \"\"\"Optimal path from source to destination using straight line distance heuristic\n",
    "\n",
    "    :param source: Source city name\n",
    "    :param destination: Destination city name\n",
    "    :returns: Heuristic value, cost and path for optimal traversal\n",
    "\n",
    "    \"\"\"\n",
    "    \n",
    "\n",
    "    #HERE THE STRAIGHT LINE DISTANCE VALUES ARE IN REFERENCE TO CHENNAI AS THE DESTINATION,\n",
    "    #h(n)=0 at goal node\n",
    "    SLD = { \n",
    "                'Panji': (Haversine((lon1,lat1),(lon10,lat10)).km),\n",
    "                'Raichur': (Haversine((lon2,lat2),(lon10,lat10)).km),\n",
    "                'Mangalore': (Haversine((lon3,lat3),(lon10,lat10)).km),\n",
    "                'Bellari': (Haversine((lon4,lat4),(lon10,lat10)).km),\n",
    "                'Tirupati': (Haversine((lon5,lat5),(lon10,lat10)).km ),\n",
    "                'Kurnool': (Haversine((lon6,lat6),(lon10,lat10)).km ),\n",
    "                'Kozhikode': (Haversine((lon7,lat7),(lon10,lat10)).km ),\n",
    "                'Bangalore' : (Haversine((lon8,lat8),(lon10,lat10)).km ),\n",
    "                'Nellore':(Haversine((lon9,lat9),(lon10,lat10)).km ),\n",
    "                'Chennai': (Haversine((lon10,lat10),(lon10,lat10)).km )\n",
    "    }\n",
    "\n",
    "    from queue import PriorityQueue\n",
    "    priority_queue, visited = PriorityQueue(), {}\n",
    "    priority_queue.put((SLD[source], 0, source, [source]))\n",
    "    visited[source] = SLD[source]\n",
    "    while not priority_queue.empty():\n",
    "        (heuristic, cost, vertex, path) = priority_queue.get()\n",
    "        if vertex == destination:\n",
    "            return heuristic, cost, path\n",
    "        for next_node in GRAPH[vertex].keys():\n",
    "            current_cost = cost + GRAPH[vertex][next_node]\n",
    "            heuristic = current_cost + SLD[next_node]\n",
    "            if not next_node in visited or visited[next_node] >= heuristic:\n",
    "                visited[next_node] = heuristic\n",
    "                priority_queue.put((heuristic, current_cost, next_node, path + [next_node])) \n",
    "    "
   ]
  },
  {
   "cell_type": "markdown",
   "metadata": {},
   "source": [
    "#### Main function / algorithm block  :"
   ]
  },
  {
   "cell_type": "code",
   "execution_count": 7,
   "metadata": {},
   "outputs": [
    {
     "name": "stdout",
     "output_type": "stream",
     "text": [
      "\u001b[1m Results of A* search to find the optimal path to the destination city :-\n",
      "\n",
      "\u001b[1m(3.1) Optimal path taken to reach Chennai from Panji:\n",
      "Panji -> Bellari -> Tirupati -> Chennai\n",
      "\n",
      "HEURISTIC = 941.0\n",
      "\n",
      "\n",
      "(3.2)COST OF THE PATH : 941\n",
      "\n",
      "(3.3)Total Number of nodes vistied from panji: 3\n"
     ]
    }
   ],
   "source": [
    "def main():\n",
    "    \"\"\"Main function\"\"\"\n",
    "    #Uncomment below lines to Choose path and cost for any other source and goal below.\n",
    "    #print('ENTER SOURCE :', end=' ')\n",
    "    #source = input().strip()\n",
    "    #print('ENTER GOAL :', end=' ')\n",
    "    #goal = input().strip()\n",
    "    \n",
    "    #For current problem statement, choosing Source is Panji and Destination is Chennai\n",
    "    source= 'Panji'\n",
    "    goal= 'Chennai'\n",
    "    print('\\033[1m Results of A* search to find the optimal path to the destination city :-\\n')\n",
    "    if source not in GRAPH or goal not in GRAPH:\n",
    "        print('\\033[1m ERROR: CITY DOES NOT EXIST.')\n",
    "    else:\n",
    "        print('\\033[1m(3.1) Optimal path taken to reach Chennai from Panji:')\n",
    "        heuristic, cost, optimal_path = a_star(source, goal)\n",
    "        print(' -> '.join(city for city in optimal_path))\n",
    "        print('\\nHEURISTIC =', heuristic)\n",
    "        print('\\n')\n",
    "        print('(3.2)COST OF THE PATH :', cost)\n",
    "        for count in range(0,len(optimal_path)):\n",
    "            count = count + 1\n",
    "        print('\\n(3.3)Total Number of nodes vistied from panji:', (count)-1)\n",
    "        \n",
    "\n",
    "if __name__ == '__main__':\n",
    "    main()\n",
    " "
   ]
  }
 ],
 "metadata": {
  "kernelspec": {
   "display_name": "Python 3",
   "language": "python",
   "name": "python3"
  },
  "language_info": {
   "codemirror_mode": {
    "name": "ipython",
    "version": 3
   },
   "file_extension": ".py",
   "mimetype": "text/x-python",
   "name": "python",
   "nbconvert_exporter": "python",
   "pygments_lexer": "ipython3",
   "version": "3.7.3"
  }
 },
 "nbformat": 4,
 "nbformat_minor": 2
}
